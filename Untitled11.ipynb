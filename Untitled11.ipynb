{
  "nbformat": 4,
  "nbformat_minor": 0,
  "metadata": {
    "colab": {
      "provenance": [],
      "authorship_tag": "ABX9TyOSQ6HlAV3ABL6fYt5PdQTB",
      "include_colab_link": true
    },
    "kernelspec": {
      "name": "python3",
      "display_name": "Python 3"
    },
    "language_info": {
      "name": "python"
    }
  },
  "cells": [
    {
      "cell_type": "markdown",
      "metadata": {
        "id": "view-in-github",
        "colab_type": "text"
      },
      "source": [
        "<a href=\"https://colab.research.google.com/github/brigith91/Triqui/blob/master/Untitled11.ipynb\" target=\"_parent\"><img src=\"https://colab.research.google.com/assets/colab-badge.svg\" alt=\"Open In Colab\"/></a>"
      ]
    },
    {
      "cell_type": "markdown",
      "source": [
        "Ejercicio 1"
      ],
      "metadata": {
        "id": "ZVIhEZdrpeuN"
      }
    },
    {
      "cell_type": "code",
      "source": [
        "\n",
        "class Nodo:\n",
        "    valor = None\n",
        "    izq = None\n",
        "    der = None\n",
        "\n",
        "    def __init__(self, valor, izq, der):\n",
        "        self.valor = valor\n",
        "        self.izq = izq\n",
        "        self.der = der\n",
        "\n",
        "    def get_valor(self):\n",
        "        return self.valor\n",
        "\n",
        "    def get_izq(self):\n",
        "        return self.izq\n",
        "\n",
        "    def get_der(self):\n",
        "        return self.der\n",
        "\n",
        "\n",
        "    def set_valor(self, valor):\n",
        "        self.valor = valor\n",
        "\n",
        "    def set_izq(self, izq):\n",
        "        self.izq = izq\n",
        "\n",
        "    def set_der(self, der):\n",
        "        self.der = der\n",
        "\n",
        "    def print(self):\n",
        "        print(self.valor)\n",
        "        if self.izq is not None:\n",
        "            self.izq.print()\n",
        "        if self.der is not None:\n",
        "            self.der.print()\n",
        "\n",
        "\n",
        "nodo_6 = Nodo(6, None, None)\n",
        "nodo_2 = Nodo(2, None, None)\n",
        "nodo_div = Nodo('div', nodo_6, nodo_2)\n",
        "\n",
        "nodo_add = Nodo(\n",
        "    'add',\n",
        "    Nodo(1, None, None ),\n",
        "    Nodo(2, None, None )\n",
        ")\n",
        "\n",
        "Nodo_mul = Nodo('mul', nodo_div, nodo_add)\n",
        "\n",
        "Nodo_mul.print()\n"
      ],
      "metadata": {
        "colab": {
          "base_uri": "https://localhost:8080/"
        },
        "id": "kaIJ60LzndOh",
        "outputId": "84d53239-269e-4262-b908-fbff8310254a"
      },
      "execution_count": 3,
      "outputs": [
        {
          "output_type": "stream",
          "name": "stdout",
          "text": [
            "mul\n",
            "div\n",
            "6\n",
            "2\n",
            "add\n",
            "1\n",
            "2\n"
          ]
        }
      ]
    },
    {
      "cell_type": "markdown",
      "source": [
        "Ejercicio 2"
      ],
      "metadata": {
        "id": "ePygBtyTpdcG"
      }
    },
    {
      "cell_type": "code",
      "source": [
        "class Nodo:\n",
        "    valor = None\n",
        "    izq = None\n",
        "    der = None\n",
        "\n",
        "    def __init__(self, valor, izq=None, der=None):\n",
        "        self.valor = valor\n",
        "        self.izq = izq\n",
        "        self.der = der\n",
        "\n",
        "    def get_valor(self):\n",
        "        return self.valor\n",
        "\n",
        "    def get_izq(self):\n",
        "        return self.izq\n",
        "\n",
        "    def get_der(self):\n",
        "        return self.der\n",
        "\n",
        "    def set_valor(self, valor):\n",
        "        self.valor = valor\n",
        "\n",
        "    def set_izq(self, izq):\n",
        "        self.izq = izq\n",
        "\n",
        "    def set_der(self, der):\n",
        "        self.der = der\n",
        "\n",
        "    def print(self):\n",
        "        print(self.valor)\n",
        "        self.izq and self.izq.print()\n",
        "        self.der and self.der.print()\n",
        "\n",
        "\n",
        "\n",
        "\n",
        "nodo_mul = Nodo(\n",
        "    'mul',\n",
        "    Nodo(3, None, None),\n",
        "    Nodo(3, None, None)\n",
        ")\n",
        "\n",
        "\n",
        "nodo_resultado_div = Nodo(9)\n",
        "\n",
        "nodo_div = Nodo(\n",
        "    'div',\n",
        "    nodo_resultado_div,\n",
        "    nodo_mul\n",
        ")\n",
        "\n",
        "\n",
        "nodo_sum = Nodo(\n",
        "    'add',\n",
        "    Nodo(3, None, None),\n",
        "    Nodo(3, None, None)\n",
        ")\n",
        "\n",
        "\n",
        "nodo_rest = Nodo(\n",
        "    'rest',\n",
        "    nodo_sum,\n",
        "    nodo_div\n",
        ")\n",
        "\n",
        "\n",
        "nodo_rest.print()\n"
      ],
      "metadata": {
        "colab": {
          "base_uri": "https://localhost:8080/"
        },
        "id": "HiX6eA7yq-KI",
        "outputId": "73fc754c-f6f0-406f-e14c-db598c0c4935"
      },
      "execution_count": 9,
      "outputs": [
        {
          "output_type": "stream",
          "name": "stdout",
          "text": [
            "rest\n",
            "add\n",
            "3\n",
            "3\n",
            "div\n",
            "9\n",
            "mul\n",
            "3\n",
            "3\n"
          ]
        }
      ]
    },
    {
      "cell_type": "markdown",
      "source": [
        "Ejercicio 3"
      ],
      "metadata": {
        "id": "Ll-Rcc70sNyP"
      }
    },
    {
      "cell_type": "code",
      "source": [
        "class Nodo:\n",
        "    valor = None\n",
        "    izq = None\n",
        "    der = None\n",
        "\n",
        "    def __init__(self, valor, izq, der):\n",
        "        self.valor = valor\n",
        "        self.izq = izq\n",
        "        self.der = der\n",
        "\n",
        "    def get_valor(self):\n",
        "        return self.valor\n",
        "\n",
        "    def get_izq(self):\n",
        "        return self.izq\n",
        "\n",
        "    def get_der(self):\n",
        "        return self.der\n",
        "\n",
        "\n",
        "    def set_valor(self, valor):\n",
        "        self.valor = valor\n",
        "\n",
        "    def set_izq(self, izq):\n",
        "        self.izq = izq\n",
        "\n",
        "    def set_der(self, der):\n",
        "        self.der = der\n",
        "\n",
        "    def print(self):\n",
        "        print(self.valor)\n",
        "        if self.izq is not None:\n",
        "            self.izq.print()\n",
        "        if self.der is not None:\n",
        "            self.der.print()\n",
        "\n",
        "\n",
        "nodo_potencia = Nodo(\n",
        "    'pot',\n",
        "    Nodo(2, None, None),\n",
        "    Nodo(2, None, None)\n",
        ")\n",
        "\n",
        "\n",
        "nodo_rest = Nodo(\n",
        "    'res',\n",
        "    Nodo(4, None, None),\n",
        "    nodo_potencia\n",
        ")\n",
        "\n",
        "\n",
        "nodo_sum = Nodo(\n",
        "    'sum',\n",
        "    Nodo(5, None, None),\n",
        "    Nodo(3, None, None)\n",
        ")\n",
        "\n",
        "nodo_mul = Nodo(\n",
        "    'mul',\n",
        "    nodo_sum,\n",
        "    nodo_rest\n",
        ")\n",
        "\n",
        "nodo_mul.print()"
      ],
      "metadata": {
        "colab": {
          "base_uri": "https://localhost:8080/"
        },
        "id": "r6niZF9FsSJL",
        "outputId": "fa7d0dbe-0cf0-4c43-bb99-09106571d9b4"
      },
      "execution_count": 10,
      "outputs": [
        {
          "output_type": "stream",
          "name": "stdout",
          "text": [
            "mul\n",
            "sum\n",
            "5\n",
            "3\n",
            "res\n",
            "4\n",
            "pot\n",
            "2\n",
            "2\n"
          ]
        }
      ]
    },
    {
      "cell_type": "markdown",
      "source": [
        "Ejercicio 4"
      ],
      "metadata": {
        "id": "ZKgFnaUxs4RF"
      }
    },
    {
      "cell_type": "code",
      "source": [
        "class Nodo:\n",
        "    valor = None\n",
        "    izq = None\n",
        "    der = None\n",
        "\n",
        "    def __init__(self, valor, izq, der):\n",
        "        self.valor = valor\n",
        "        self.izq = izq\n",
        "        self.der = der\n",
        "\n",
        "    def get_valor(self):\n",
        "        return self.valor\n",
        "\n",
        "    def get_izq(self):\n",
        "        return self.izq\n",
        "\n",
        "    def get_der(self):\n",
        "        return self.der\n",
        "\n",
        "    def set_valor(self, valor):\n",
        "        self.valor = valor\n",
        "\n",
        "    def set_izq(self, izq):\n",
        "        self.izq = izq\n",
        "\n",
        "    def set_der(self, der):\n",
        "        self.der = der\n",
        "\n",
        "    def print(self):\n",
        "        if self.izq is not None:\n",
        "            self.izq.print()\n",
        "        print(self.valor)\n",
        "        if self.der is not None:\n",
        "            self.der.print()\n",
        "\n",
        "\n",
        "nodo_div = Nodo(\n",
        "    'div',\n",
        "    Nodo(6, None, None),\n",
        "    Nodo(2, None, None)\n",
        ")\n",
        "\n",
        "nodo_mul = Nodo(\n",
        "    'mul',\n",
        "    nodo_div,\n",
        "    Nodo(1, None, None)\n",
        ")\n",
        "\n",
        "\n",
        "nodo_sum = Nodo(\n",
        "    'sum',\n",
        "    nodo_mul,\n",
        "    Nodo(2, None, None)\n",
        ")\n",
        "\n",
        "\n",
        "nodo_sum.print()\n"
      ],
      "metadata": {
        "colab": {
          "base_uri": "https://localhost:8080/"
        },
        "id": "GYLt9-mMvCu5",
        "outputId": "6f5b6017-803e-41c0-b304-31cff18a461c"
      },
      "execution_count": 17,
      "outputs": [
        {
          "output_type": "stream",
          "name": "stdout",
          "text": [
            "6\n",
            "div\n",
            "2\n",
            "mul\n",
            "1\n",
            "sum\n",
            "2\n"
          ]
        }
      ]
    },
    {
      "cell_type": "markdown",
      "source": [
        "Ejercicio 5"
      ],
      "metadata": {
        "id": "fJh9MM7uvbU6"
      }
    },
    {
      "cell_type": "code",
      "source": [
        "class Nodo:\n",
        "    valor = None\n",
        "    izq = None\n",
        "    der = None\n",
        "\n",
        "    def __init__(self, valor, izq=None, der=None):\n",
        "        self.valor = valor\n",
        "        self.izq = izq\n",
        "        self.der = der\n",
        "\n",
        "    def get_valor(self):\n",
        "        return self.valor\n",
        "\n",
        "    def get_izq(self):\n",
        "        return self.izq\n",
        "\n",
        "    def get_der(self):\n",
        "        return self.der\n",
        "\n",
        "    def set_valor(self, valor):\n",
        "        self.valor = valor\n",
        "\n",
        "    def set_izq(self, izq):\n",
        "        self.izq = izq\n",
        "\n",
        "    def set_der(self, der):\n",
        "        self.der = der\n",
        "\n",
        "    def print(self):\n",
        "        if self.izq is not None:\n",
        "            self.izq.print()\n",
        "        print(self.valor)\n",
        "        if self.der is not None:\n",
        "            self.der.print()\n",
        "\n",
        "\n",
        "\n",
        "nodo_suma = Nodo(\n",
        "    'sum',\n",
        "    Nodo(2),\n",
        "    Nodo(1)\n",
        ")\n",
        "\n",
        "\n",
        "nodo_div = Nodo(\n",
        "    'div',\n",
        "    nodo_suma,\n",
        "    Nodo(3)\n",
        ")\n",
        "\n",
        "\n",
        "nodo_rest = Nodo(\n",
        "    'rest',\n",
        "    nodo_div,\n",
        "    Nodo(7)\n",
        ")\n",
        "\n",
        "\n",
        "nodo_rest.print()\n"
      ],
      "metadata": {
        "colab": {
          "base_uri": "https://localhost:8080/"
        },
        "id": "9jFCvZLZvfbp",
        "outputId": "dce2fd61-8082-4aa5-984d-9df4edc8b70d"
      },
      "execution_count": 19,
      "outputs": [
        {
          "output_type": "stream",
          "name": "stdout",
          "text": [
            "2\n",
            "sum\n",
            "1\n",
            "div\n",
            "3\n",
            "rest\n",
            "7\n"
          ]
        }
      ]
    },
    {
      "cell_type": "markdown",
      "source": [
        "Ejercicio 3"
      ],
      "metadata": {
        "id": "vLL5eKU9xjsN"
      }
    },
    {
      "cell_type": "code",
      "source": [
        "class Nodo:\n",
        "    valor = None\n",
        "    izq = None\n",
        "    der = None\n",
        "\n",
        "    def __init__(self, valor, izq=None, der=None):\n",
        "        self.valor = valor\n",
        "        self.izq = izq\n",
        "        self.der = der\n",
        "\n",
        "    def get_valor(self):\n",
        "        return self.valor\n",
        "\n",
        "    def get_izq(self):\n",
        "        return self.izq\n",
        "\n",
        "    def get_der(self):\n",
        "        return self.der\n",
        "\n",
        "    def set_valor(self, valor):\n",
        "        self.valor = valor\n",
        "\n",
        "    def set_izq(self, izq):\n",
        "        self.izq = izq\n",
        "\n",
        "    def set_der(self, der):\n",
        "        self.der = der\n",
        "\n",
        "    def print(self):\n",
        "        if self.izq is not None:\n",
        "            self.izq.print()\n",
        "        print(self.valor)\n",
        "        if self.der is not None:\n",
        "            self.der.print()\n",
        "\n",
        "\n",
        "\n",
        "nodo_suma = Nodo(\n",
        "    'sum',\n",
        "    Nodo(1),\n",
        "    Nodo(1)\n",
        ")\n",
        "\n",
        "# Nodos para la resta (7 - 3)\n",
        "nodo_rest = Nodo(\n",
        "    'rest',\n",
        "    Nodo(7),\n",
        "    Nodo(3)\n",
        ")\n",
        "\n",
        "\n",
        "nodo_div = Nodo(\n",
        "    'div',\n",
        "    nodo_rest,\n",
        "    nodo_suma\n",
        ")\n",
        "\n",
        "\n",
        "nodo_div.print()\n"
      ],
      "metadata": {
        "colab": {
          "base_uri": "https://localhost:8080/"
        },
        "id": "gCU3LJzNxlRE",
        "outputId": "5498f085-a9d6-4aa0-b105-237174121eb4"
      },
      "execution_count": 21,
      "outputs": [
        {
          "output_type": "stream",
          "name": "stdout",
          "text": [
            "7\n",
            "rest\n",
            "3\n",
            "div\n",
            "1\n",
            "sum\n",
            "1\n"
          ]
        }
      ]
    }
  ]
}